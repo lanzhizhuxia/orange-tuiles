{
 "cells": [
  {
   "cell_type": "code",
   "execution_count": 271,
   "metadata": {},
   "outputs": [],
   "source": [
    "import requests\n",
    "import pandas as pd\n",
    "import json\n",
    "\n",
    "def getAmount(base, quote, lpt_amount):\n",
    "    urlBase='''https://www.okexcn.com/okexchain/v1/swap/liquidity/remove_quote/{base}_{quote}?liquidity={lptAmount}'''.format(base=base,quote=quote,lptAmount=lpt_amount)\n",
    "    okbusdtr = requests.get(urlBase)\n",
    "    okbusdt = json.dumps(okbusdtr.json())\n",
    "    data = json.loads(okbusdt)\n",
    "    df = pd.DataFrame(data['data'], columns=['denom','amount'])\n",
    "    df['lqt_amount']=df['amount']\n",
    "    \n",
    "    return df\n",
    "\n",
    "def getPrice(base):\n",
    "    priceUrl='''https://www.okexcn.com/okexchain/v1/swap/liquidity/remove_quote/{base}_usdt-a2b?liquidity=0.01'''.format(base=base)\n",
    "    priceR = requests.get(priceUrl)\n",
    "    prices = json.dumps(priceR.json())\n",
    "    price_data = json.loads(prices)\n",
    "    baseAmount=price_data['data'][0]['amount']\n",
    "    quoteAmount=price_data['data'][1]['amount']\n",
    "    price=float(quoteAmount)/float(baseAmount)\n",
    "    df = pd.DataFrame({'denom':base,'price':price},pd.Index(range(1)))\n",
    "    return df\n",
    "\n",
    "def getReword(poolname):\n",
    "    rewordUrl='''https://www.okexcn.com/okexchain/v1/farm/earnings/{poolname}/okexchain16y4cauu2uy5vhwcaz8jgsfsm20j67670r9lelj'''.format(poolname=poolname)\n",
    "    rewordR = requests.get(rewordUrl)\n",
    "    reword = json.dumps(rewordR.json())\n",
    "    reword_data = json.loads(reword)\n",
    "    amount=reword_data['amount_yielded'][0]\n",
    "    df = pd.DataFrame(amount, columns=['denom','amount'],index = [0])\n",
    "    df['reword_amount']=df['amount']\n",
    "    return df\n"
   ]
  },
  {
   "cell_type": "code",
   "execution_count": 23,
   "metadata": {},
   "outputs": [],
   "source": []
  },
  {
   "cell_type": "code",
   "execution_count": null,
   "metadata": {},
   "outputs": [],
   "source": []
  },
  {
   "cell_type": "code",
   "execution_count": null,
   "metadata": {},
   "outputs": [],
   "source": []
  },
  {
   "cell_type": "code",
   "execution_count": 280,
   "metadata": {},
   "outputs": [
    {
     "data": {
      "text/plain": [
       "144485.24506580736"
      ]
     },
     "execution_count": 280,
     "metadata": {},
     "output_type": "execute_result"
    }
   ],
   "source": [
    "\n",
    "#df1=getAmount(\"okb-c4d\",\"usdt-a2b\",0)\n",
    "df2=getAmount(\"btck-ba9\",\"okt\",49.610546632517983358)\n",
    "#df3=getAmount(\"ethk-c63\",\"okt\",0)\n",
    "\n",
    "\n",
    "rr = requests.get('https://www.okexcn.com/okexchain/v1/accounts/okexchain16y4cauu2uy5vhwcaz8jgsfsm20j67670r9lelj')\n",
    "rrData = json.loads(json.dumps(rr.json()))\n",
    "rrdf = pd.DataFrame(rrData['data']['currencies'])\n",
    "rrdf.rename(columns={'symbol':'denom','available':'amount'},inplace=True)\n",
    "rrdf['account_amount']=rrdf['amount']\n",
    "rrdf\n",
    "\n",
    "#dfr1=getReword(\"btck_okt\")\n",
    "#dfr2=getReword(\"ethk_okt\")\n",
    "#dfr3=getReword(\"okb_usdt\")\n",
    "\n",
    "df = df2.append(rrdf)\n",
    "df['amount']=df['amount'].astype(\"float64\")\n",
    "df['lqt_amount']=df['lqt_amount'].astype(\"float64\")\n",
    "df['account_amount']=df['account_amount'].astype(\"float64\")\n",
    "#df['reword_amount']=df['reword_amount'].astype(\"float64\")\n",
    "dfg=df.groupby('denom').sum()\n",
    "\n",
    "\n",
    "okb=getPrice(\"okb-c4d\")\n",
    "btck=getPrice(\"btck-ba9\")\n",
    "ethk=getPrice(\"ethk-c63\")\n",
    "okt=getPrice(\"okt\")\n",
    "usdt = pd.DataFrame({'denom':'usdt-a2b','price':1},pd.Index(range(1)))\n",
    "\n",
    "price = okb.append(btck).append(ethk).append(okt).append(usdt)\n",
    "dfprice=pd.merge(dfg, price, on='denom')\n",
    "dfprice['usdt'] = dfprice['amount']*dfprice['price']\n",
    "\n",
    "dfprice['usdt'].sum()"
   ]
  },
  {
   "cell_type": "code",
   "execution_count": 281,
   "metadata": {},
   "outputs": [
    {
     "data": {
      "text/html": [
       "<div>\n",
       "<style scoped>\n",
       "    .dataframe tbody tr th:only-of-type {\n",
       "        vertical-align: middle;\n",
       "    }\n",
       "\n",
       "    .dataframe tbody tr th {\n",
       "        vertical-align: top;\n",
       "    }\n",
       "\n",
       "    .dataframe thead th {\n",
       "        text-align: right;\n",
       "    }\n",
       "</style>\n",
       "<table border=\"1\" class=\"dataframe\">\n",
       "  <thead>\n",
       "    <tr style=\"text-align: right;\">\n",
       "      <th></th>\n",
       "      <th>denom</th>\n",
       "      <th>amount</th>\n",
       "      <th>lqt_amount</th>\n",
       "      <th>account_amount</th>\n",
       "      <th>price</th>\n",
       "      <th>usdt</th>\n",
       "    </tr>\n",
       "  </thead>\n",
       "  <tbody>\n",
       "    <tr>\n",
       "      <th>0</th>\n",
       "      <td>btck-ba9</td>\n",
       "      <td>0.46932912</td>\n",
       "      <td>0.46932912</td>\n",
       "      <td>0.00000001</td>\n",
       "      <td>52408.79783400</td>\n",
       "      <td>24596.97517594</td>\n",
       "    </tr>\n",
       "    <tr>\n",
       "      <th>1</th>\n",
       "      <td>okt</td>\n",
       "      <td>1671.54610947</td>\n",
       "      <td>343.52718602</td>\n",
       "      <td>1328.01892346</td>\n",
       "      <td>71.72298102</td>\n",
       "      <td>119888.26988986</td>\n",
       "    </tr>\n",
       "  </tbody>\n",
       "</table>\n",
       "</div>"
      ],
      "text/plain": [
       "      denom        amount   lqt_amount  account_amount          price  \\\n",
       "0  btck-ba9    0.46932912   0.46932912      0.00000001 52408.79783400   \n",
       "1       okt 1671.54610947 343.52718602   1328.01892346    71.72298102   \n",
       "\n",
       "             usdt  \n",
       "0  24596.97517594  \n",
       "1 119888.26988986  "
      ]
     },
     "execution_count": 281,
     "metadata": {},
     "output_type": "execute_result"
    }
   ],
   "source": [
    "pd.set_option('display.float_format', lambda x: '%.8f' % x)\n",
    "dfprice"
   ]
  },
  {
   "cell_type": "code",
   "execution_count": 162,
   "metadata": {},
   "outputs": [
    {
     "data": {
      "text/plain": [
       "104879.09652077063"
      ]
     },
     "execution_count": 162,
     "metadata": {},
     "output_type": "execute_result"
    }
   ],
   "source": [
    "dfprice['usdt'].sum()"
   ]
  },
  {
   "cell_type": "code",
   "execution_count": 270,
   "metadata": {},
   "outputs": [
    {
     "data": {
      "text/html": [
       "<div>\n",
       "<style scoped>\n",
       "    .dataframe tbody tr th:only-of-type {\n",
       "        vertical-align: middle;\n",
       "    }\n",
       "\n",
       "    .dataframe tbody tr th {\n",
       "        vertical-align: top;\n",
       "    }\n",
       "\n",
       "    .dataframe thead th {\n",
       "        text-align: right;\n",
       "    }\n",
       "</style>\n",
       "<table border=\"1\" class=\"dataframe\">\n",
       "  <thead>\n",
       "    <tr style=\"text-align: right;\">\n",
       "      <th></th>\n",
       "      <th>denom</th>\n",
       "      <th>amount</th>\n",
       "      <th>reword_amount</th>\n",
       "    </tr>\n",
       "  </thead>\n",
       "  <tbody>\n",
       "    <tr>\n",
       "      <th>0</th>\n",
       "      <td>okt</td>\n",
       "      <td>9.919790588199812444</td>\n",
       "      <td>9.919790588199812444</td>\n",
       "    </tr>\n",
       "  </tbody>\n",
       "</table>\n",
       "</div>"
      ],
      "text/plain": [
       "  denom                amount         reword_amount\n",
       "0   okt  9.919790588199812444  9.919790588199812444"
      ]
     },
     "execution_count": 270,
     "metadata": {},
     "output_type": "execute_result"
    }
   ],
   "source": [
    "dfr1"
   ]
  },
  {
   "cell_type": "code",
   "execution_count": 109,
   "metadata": {},
   "outputs": [
    {
     "name": "stdout",
     "output_type": "stream",
     "text": [
      "OKB:  1489.404022518915920542\n",
      "USDT:  13670.632226345126764748\n",
      "price:  9.178592255461366\n"
     ]
    }
   ],
   "source": [
    "okbusdtr = requests.get('https://www.okexcn.com/okexchain/v1/swap/liquidity/remove_quote/okb-c4d_usdt-a2b?liquidity=0.99880969')\n",
    "\n",
    "okbusdt = json.dumps(okbusdtr.json())\n",
    "data = json.loads(okbusdt)\n",
    "okbAmount=data['data'][0]['amount']\n",
    "usdtAmount=data['data'][1]['amount']\n",
    "price=float(usdtAmount)/float(okbAmount)\n",
    "print (\"OKB: \", okbAmount)\n",
    "print (\"USDT: \", usdtAmount)\n",
    "print (\"price: \", price)"
   ]
  },
  {
   "cell_type": "code",
   "execution_count": 159,
   "metadata": {},
   "outputs": [
    {
     "data": {
      "text/html": [
       "<div>\n",
       "<style scoped>\n",
       "    .dataframe tbody tr th:only-of-type {\n",
       "        vertical-align: middle;\n",
       "    }\n",
       "\n",
       "    .dataframe tbody tr th {\n",
       "        vertical-align: top;\n",
       "    }\n",
       "\n",
       "    .dataframe thead th {\n",
       "        text-align: right;\n",
       "    }\n",
       "</style>\n",
       "<table border=\"1\" class=\"dataframe\">\n",
       "  <thead>\n",
       "    <tr style=\"text-align: right;\">\n",
       "      <th></th>\n",
       "      <th>denom</th>\n",
       "      <th>amount</th>\n",
       "      <th>locked</th>\n",
       "    </tr>\n",
       "  </thead>\n",
       "  <tbody>\n",
       "    <tr>\n",
       "      <th>0</th>\n",
       "      <td>ammswap_okb-c4d_usdt-a2b</td>\n",
       "      <td>0.000000002033978094</td>\n",
       "      <td>0</td>\n",
       "    </tr>\n",
       "    <tr>\n",
       "      <th>1</th>\n",
       "      <td>btck-ba9</td>\n",
       "      <td>0.000000005441568435</td>\n",
       "      <td>0</td>\n",
       "    </tr>\n",
       "    <tr>\n",
       "      <th>2</th>\n",
       "      <td>ethk-c63</td>\n",
       "      <td>0.000000000000000001</td>\n",
       "      <td>0</td>\n",
       "    </tr>\n",
       "    <tr>\n",
       "      <th>3</th>\n",
       "      <td>okb-c4d</td>\n",
       "      <td>0.000000008000152614</td>\n",
       "      <td>0</td>\n",
       "    </tr>\n",
       "    <tr>\n",
       "      <th>4</th>\n",
       "      <td>okt</td>\n",
       "      <td>267.075525711718378653</td>\n",
       "      <td>0</td>\n",
       "    </tr>\n",
       "    <tr>\n",
       "      <th>5</th>\n",
       "      <td>usdt-a2b</td>\n",
       "      <td>2275.764933267381108469</td>\n",
       "      <td>0</td>\n",
       "    </tr>\n",
       "    <tr>\n",
       "      <th>6</th>\n",
       "      <td>yfi-bb5</td>\n",
       "      <td>30000.000000000000000000</td>\n",
       "      <td>0</td>\n",
       "    </tr>\n",
       "  </tbody>\n",
       "</table>\n",
       "</div>"
      ],
      "text/plain": [
       "                      denom                    amount locked\n",
       "0  ammswap_okb-c4d_usdt-a2b      0.000000002033978094      0\n",
       "1                  btck-ba9      0.000000005441568435      0\n",
       "2                  ethk-c63      0.000000000000000001      0\n",
       "3                   okb-c4d      0.000000008000152614      0\n",
       "4                       okt    267.075525711718378653      0\n",
       "5                  usdt-a2b   2275.764933267381108469      0\n",
       "6                   yfi-bb5  30000.000000000000000000      0"
      ]
     },
     "execution_count": 159,
     "metadata": {},
     "output_type": "execute_result"
    }
   ],
   "source": [
    "rr = requests.get('https://www.okexcn.com/okexchain/v1/accounts/okexchain16y4cauu2uy5vhwcaz8jgsfsm20j67670r9lelj')\n",
    "\n",
    "rrData = json.loads(json.dumps(rr.json()))\n",
    "rrdf = pd.DataFrame(rrData['data']['currencies'])\n",
    "rrdf.rename(columns={'symbol':'denom','available':'amount'},inplace=True)\n",
    "rrdf"
   ]
  },
  {
   "cell_type": "code",
   "execution_count": 268,
   "metadata": {},
   "outputs": [],
   "source": [
    "rrr = requests.get('https://www.okexcn.com/okexchain/v1/farm/earnings/btck_okt/okexchain16y4cauu2uy5vhwcaz8jgsfsm20j67670r9lelj')\n"
   ]
  },
  {
   "cell_type": "code",
   "execution_count": 269,
   "metadata": {},
   "outputs": [
    {
     "data": {
      "text/plain": [
       "{'target_block_height': '790754',\n",
       " 'amount_locked': {'denom': 'ammswap_btck-ba9_okt',\n",
       "  'amount': '49.610546632517983358'},\n",
       " 'amount_yielded': [{'denom': 'okt', 'amount': '17.471909215568899234'}]}"
      ]
     },
     "execution_count": 269,
     "metadata": {},
     "output_type": "execute_result"
    }
   ],
   "source": [
    "rrrData = json.loads(json.dumps(rrr.json()))\n",
    "rrrData\n"
   ]
  },
  {
   "cell_type": "code",
   "execution_count": 183,
   "metadata": {},
   "outputs": [
    {
     "data": {
      "text/html": [
       "<div>\n",
       "<style scoped>\n",
       "    .dataframe tbody tr th:only-of-type {\n",
       "        vertical-align: middle;\n",
       "    }\n",
       "\n",
       "    .dataframe tbody tr th {\n",
       "        vertical-align: top;\n",
       "    }\n",
       "\n",
       "    .dataframe thead th {\n",
       "        text-align: right;\n",
       "    }\n",
       "</style>\n",
       "<table border=\"1\" class=\"dataframe\">\n",
       "  <thead>\n",
       "    <tr style=\"text-align: right;\">\n",
       "      <th></th>\n",
       "      <th>denom</th>\n",
       "      <th>amount</th>\n",
       "    </tr>\n",
       "  </thead>\n",
       "  <tbody>\n",
       "    <tr>\n",
       "      <th>0</th>\n",
       "      <td>okt</td>\n",
       "      <td>9.919790588199812444</td>\n",
       "    </tr>\n",
       "  </tbody>\n",
       "</table>\n",
       "</div>"
      ],
      "text/plain": [
       "  denom                amount\n",
       "0   okt  9.919790588199812444"
      ]
     },
     "execution_count": 183,
     "metadata": {},
     "output_type": "execute_result"
    }
   ],
   "source": [
    "amount=rrrData['amount_yielded'][0]\n",
    "df = pd.DataFrame(amount, columns=['denom','amount'],index = [0])\n",
    "df"
   ]
  },
  {
   "cell_type": "code",
   "execution_count": null,
   "metadata": {},
   "outputs": [],
   "source": []
  },
  {
   "cell_type": "code",
   "execution_count": null,
   "metadata": {},
   "outputs": [],
   "source": []
  },
  {
   "cell_type": "code",
   "execution_count": null,
   "metadata": {},
   "outputs": [],
   "source": []
  }
 ],
 "metadata": {
  "kernelspec": {
   "display_name": "Python 3",
   "language": "python",
   "name": "python3"
  },
  "language_info": {
   "codemirror_mode": {
    "name": "ipython",
    "version": 3
   },
   "file_extension": ".py",
   "mimetype": "text/x-python",
   "name": "python",
   "nbconvert_exporter": "python",
   "pygments_lexer": "ipython3",
   "version": "3.7.6"
  }
 },
 "nbformat": 4,
 "nbformat_minor": 4
}
