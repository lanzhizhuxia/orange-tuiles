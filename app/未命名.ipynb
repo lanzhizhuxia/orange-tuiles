{
 "cells": [
  {
   "cell_type": "code",
   "execution_count": 27,
   "metadata": {},
   "outputs": [],
   "source": [
    "import requests\n",
    "import pandas as pd\n",
    "import json\n",
    "\n",
    "def getAmount(base, quote, lpt_amount):\n",
    "    urlBase='''https://www.okexcn.com/okexchain/v1/swap/liquidity/remove_quote/{base}_{quote}?liquidity={lptAmount}'''.format(base=base,quote=quote,lptAmount=lpt_amount)\n",
    "    okbusdtr = requests.get(urlBase)\n",
    "    okbusdt = json.dumps(okbusdtr.json())\n",
    "    data = json.loads(okbusdt)\n",
    "    df = pd.DataFrame(data['data'], columns=['denom','amount'])\n",
    "    df['lqt_amount']=df['amount']\n",
    "    \n",
    "    return df\n",
    "\n",
    "def getPrice(base):\n",
    "    priceUrl='''https://www.okexcn.com/okexchain/v1/swap/liquidity/remove_quote/{base}_usdt-a2b?liquidity=0.01'''.format(base=base)\n",
    "    priceR = requests.get(priceUrl)\n",
    "    prices = json.dumps(priceR.json())\n",
    "    price_data = json.loads(prices)\n",
    "    baseAmount=price_data['data'][0]['amount']\n",
    "    quoteAmount=price_data['data'][1]['amount']\n",
    "    price=float(quoteAmount)/float(baseAmount)\n",
    "    df = pd.DataFrame({'denom':base,'price':price},pd.Index(range(1)))\n",
    "    return df\n",
    "\n",
    "def getReword(poolname):\n",
    "    rewordUrl='''https://www.okexcn.com/okexchain/v1/farm/earnings/{poolname}/okexchain16y4cauu2uy5vhwcaz8jgsfsm20j67670r9lelj'''.format(poolname=poolname)\n",
    "    rewordR = requests.get(rewordUrl)\n",
    "    reword = json.dumps(rewordR.json())\n",
    "    reword_data = json.loads(reword)\n",
    "    amount=reword_data['amount_yielded'][0]\n",
    "    df = pd.DataFrame(amount, columns=['denom','amount'],index = [0])\n",
    "    df['reword_amount']=df['amount']\n",
    "    return df\n"
   ]
  },
  {
   "cell_type": "code",
   "execution_count": 23,
   "metadata": {},
   "outputs": [],
   "source": []
  },
  {
   "cell_type": "code",
   "execution_count": null,
   "metadata": {},
   "outputs": [],
   "source": []
  },
  {
   "cell_type": "code",
   "execution_count": null,
   "metadata": {},
   "outputs": [],
   "source": []
  },
  {
   "cell_type": "code",
   "execution_count": 87,
   "metadata": {},
   "outputs": [
    {
     "ename": "KeyError",
     "evalue": "'data'",
     "output_type": "error",
     "traceback": [
      "\u001b[0;31m---------------------------------------------------------------------------\u001b[0m",
      "\u001b[0;31mKeyError\u001b[0m                                  Traceback (most recent call last)",
      "\u001b[0;32m<ipython-input-87-65608b3636f5>\u001b[0m in \u001b[0;36m<module>\u001b[0;34m\u001b[0m\n\u001b[1;32m      6\u001b[0m \u001b[0mrr\u001b[0m \u001b[0;34m=\u001b[0m \u001b[0mrequests\u001b[0m\u001b[0;34m.\u001b[0m\u001b[0mget\u001b[0m\u001b[0;34m(\u001b[0m\u001b[0;34m'https://www.okexcn.com/okexchain/v1/accounts/okexchain16y4cauu2uy5vhwcaz8jgsfsm20j67670r9lelj'\u001b[0m\u001b[0;34m)\u001b[0m\u001b[0;34m\u001b[0m\u001b[0;34m\u001b[0m\u001b[0m\n\u001b[1;32m      7\u001b[0m \u001b[0mrrData\u001b[0m \u001b[0;34m=\u001b[0m \u001b[0mjson\u001b[0m\u001b[0;34m.\u001b[0m\u001b[0mloads\u001b[0m\u001b[0;34m(\u001b[0m\u001b[0mjson\u001b[0m\u001b[0;34m.\u001b[0m\u001b[0mdumps\u001b[0m\u001b[0;34m(\u001b[0m\u001b[0mrr\u001b[0m\u001b[0;34m.\u001b[0m\u001b[0mjson\u001b[0m\u001b[0;34m(\u001b[0m\u001b[0;34m)\u001b[0m\u001b[0;34m)\u001b[0m\u001b[0;34m)\u001b[0m\u001b[0;34m\u001b[0m\u001b[0;34m\u001b[0m\u001b[0m\n\u001b[0;32m----> 8\u001b[0;31m \u001b[0mrrdf\u001b[0m \u001b[0;34m=\u001b[0m \u001b[0mpd\u001b[0m\u001b[0;34m.\u001b[0m\u001b[0mDataFrame\u001b[0m\u001b[0;34m(\u001b[0m\u001b[0mrrData\u001b[0m\u001b[0;34m[\u001b[0m\u001b[0;34m'data'\u001b[0m\u001b[0;34m]\u001b[0m\u001b[0;34m[\u001b[0m\u001b[0;34m'currencies'\u001b[0m\u001b[0;34m]\u001b[0m\u001b[0;34m)\u001b[0m\u001b[0;34m\u001b[0m\u001b[0;34m\u001b[0m\u001b[0m\n\u001b[0m\u001b[1;32m      9\u001b[0m \u001b[0mrrdf\u001b[0m\u001b[0;34m.\u001b[0m\u001b[0mrename\u001b[0m\u001b[0;34m(\u001b[0m\u001b[0mcolumns\u001b[0m\u001b[0;34m=\u001b[0m\u001b[0;34m{\u001b[0m\u001b[0;34m'symbol'\u001b[0m\u001b[0;34m:\u001b[0m\u001b[0;34m'denom'\u001b[0m\u001b[0;34m,\u001b[0m\u001b[0;34m'available'\u001b[0m\u001b[0;34m:\u001b[0m\u001b[0;34m'amount'\u001b[0m\u001b[0;34m}\u001b[0m\u001b[0;34m,\u001b[0m\u001b[0minplace\u001b[0m\u001b[0;34m=\u001b[0m\u001b[0;32mTrue\u001b[0m\u001b[0;34m)\u001b[0m\u001b[0;34m\u001b[0m\u001b[0;34m\u001b[0m\u001b[0m\n\u001b[1;32m     10\u001b[0m \u001b[0mrrdf\u001b[0m\u001b[0;34m[\u001b[0m\u001b[0;34m'account_amount'\u001b[0m\u001b[0;34m]\u001b[0m\u001b[0;34m=\u001b[0m\u001b[0mrrdf\u001b[0m\u001b[0;34m[\u001b[0m\u001b[0;34m'amount'\u001b[0m\u001b[0;34m]\u001b[0m\u001b[0;34m\u001b[0m\u001b[0;34m\u001b[0m\u001b[0m\n",
      "\u001b[0;31mKeyError\u001b[0m: 'data'"
     ]
    }
   ],
   "source": [
    "\n",
    "#df1=getAmount(\"okb-c4d\",\"usdt-a2b\",0)\n",
    "#df2=getAmount(\"okb-c4d\",\"okt\",0)\n",
    "#df3=getAmount(\"ethk-c63\",\"okt\",0)\n",
    "\n",
    "\n",
    "rr = requests.get('https://www.okexcn.com/okexchain/v1/accounts/okexchain16y4cauu2uy5vhwcaz8jgsfsm20j67670r9lelj')\n",
    "rrData = json.loads(json.dumps(rr.json()))\n",
    "rrdf = pd.DataFrame(rrData['data']['currencies'])\n",
    "rrdf.rename(columns={'symbol':'denom','available':'amount'},inplace=True)\n",
    "rrdf['account_amount']=rrdf['amount']\n",
    "rrdf\n",
    "\n",
    "#dfr1=getReword(\"btck_okt\")\n",
    "#dfr2=getReword(\"ethk_okt\")\n",
    "#dfr3=getReword(\"okb_okt\")\n",
    "\n",
    "df = rrdf\n",
    "df['amount']=df['amount'].astype(\"float64\")\n",
    "#df['lqt_amount']=df['lqt_amount'].astype(\"float64\")\n",
    "df['account_amount']=df['account_amount'].astype(\"float64\")\n",
    "#df['reword_amount']=df['reword_amount'].astype(\"float64\")\n",
    "dfg=df.groupby('denom').sum()\n",
    "\n",
    "\n",
    "okb=getPrice(\"okb-c4d\")\n",
    "btck=getPrice(\"btck-ba9\")\n",
    "ethk=getPrice(\"ethk-c63\")\n",
    "okt=getPrice(\"okt\")\n",
    "usdt = pd.DataFrame({'denom':'usdt-a2b','price':1},pd.Index(range(1)))\n",
    "\n",
    "price = okb.append(btck).append(ethk).append(okt).append(usdt)\n",
    "dfprice=pd.merge(dfg, price, on='denom')\n",
    "dfprice['usdt'] = dfprice['amount']*dfprice['price']\n",
    "\n",
    "dfprice['usdt'].sum()"
   ]
  },
  {
   "cell_type": "code",
   "execution_count": 84,
   "metadata": {},
   "outputs": [
    {
     "data": {
      "text/html": [
       "<div>\n",
       "<style scoped>\n",
       "    .dataframe tbody tr th:only-of-type {\n",
       "        vertical-align: middle;\n",
       "    }\n",
       "\n",
       "    .dataframe tbody tr th {\n",
       "        vertical-align: top;\n",
       "    }\n",
       "\n",
       "    .dataframe thead th {\n",
       "        text-align: right;\n",
       "    }\n",
       "</style>\n",
       "<table border=\"1\" class=\"dataframe\">\n",
       "  <thead>\n",
       "    <tr style=\"text-align: right;\">\n",
       "      <th></th>\n",
       "      <th>denom</th>\n",
       "      <th>amount</th>\n",
       "      <th>account_amount</th>\n",
       "      <th>lqt_amount</th>\n",
       "      <th>price</th>\n",
       "      <th>usdt</th>\n",
       "    </tr>\n",
       "  </thead>\n",
       "  <tbody>\n",
       "    <tr>\n",
       "      <th>0</th>\n",
       "      <td>btck-ba9</td>\n",
       "      <td>0.47952000</td>\n",
       "      <td>0.47952000</td>\n",
       "      <td>0.00000000</td>\n",
       "      <td>52820.21284362</td>\n",
       "      <td>25328.34846277</td>\n",
       "    </tr>\n",
       "    <tr>\n",
       "      <th>1</th>\n",
       "      <td>okb-c4d</td>\n",
       "      <td>0.00000000</td>\n",
       "      <td>0.00000000</td>\n",
       "      <td>0.00000000</td>\n",
       "      <td>13.67327000</td>\n",
       "      <td>0.00000000</td>\n",
       "    </tr>\n",
       "    <tr>\n",
       "      <th>2</th>\n",
       "      <td>okt</td>\n",
       "      <td>228.45428862</td>\n",
       "      <td>228.45428862</td>\n",
       "      <td>0.00000000</td>\n",
       "      <td>87.64364485</td>\n",
       "      <td>20022.56653517</td>\n",
       "    </tr>\n",
       "    <tr>\n",
       "      <th>3</th>\n",
       "      <td>usdt-a2b</td>\n",
       "      <td>2666.51433781</td>\n",
       "      <td>2666.51433781</td>\n",
       "      <td>0.00000000</td>\n",
       "      <td>1.00000000</td>\n",
       "      <td>2666.51433781</td>\n",
       "    </tr>\n",
       "  </tbody>\n",
       "</table>\n",
       "</div>"
      ],
      "text/plain": [
       "      denom        amount  account_amount  lqt_amount          price  \\\n",
       "0  btck-ba9    0.47952000      0.47952000  0.00000000 52820.21284362   \n",
       "1   okb-c4d    0.00000000      0.00000000  0.00000000    13.67327000   \n",
       "2       okt  228.45428862    228.45428862  0.00000000    87.64364485   \n",
       "3  usdt-a2b 2666.51433781   2666.51433781  0.00000000     1.00000000   \n",
       "\n",
       "            usdt  \n",
       "0 25328.34846277  \n",
       "1     0.00000000  \n",
       "2 20022.56653517  \n",
       "3  2666.51433781  "
      ]
     },
     "execution_count": 84,
     "metadata": {},
     "output_type": "execute_result"
    }
   ],
   "source": [
    "pd.set_option('display.float_format', lambda x: '%.8f' % x)\n",
    "dfprice"
   ]
  },
  {
   "cell_type": "code",
   "execution_count": 67,
   "metadata": {},
   "outputs": [
    {
     "data": {
      "text/plain": [
       "189757.06900798483"
      ]
     },
     "execution_count": 67,
     "metadata": {},
     "output_type": "execute_result"
    }
   ],
   "source": [
    "dfprice['usdt'].sum()"
   ]
  },
  {
   "cell_type": "code",
   "execution_count": 270,
   "metadata": {},
   "outputs": [
    {
     "data": {
      "text/html": [
       "<div>\n",
       "<style scoped>\n",
       "    .dataframe tbody tr th:only-of-type {\n",
       "        vertical-align: middle;\n",
       "    }\n",
       "\n",
       "    .dataframe tbody tr th {\n",
       "        vertical-align: top;\n",
       "    }\n",
       "\n",
       "    .dataframe thead th {\n",
       "        text-align: right;\n",
       "    }\n",
       "</style>\n",
       "<table border=\"1\" class=\"dataframe\">\n",
       "  <thead>\n",
       "    <tr style=\"text-align: right;\">\n",
       "      <th></th>\n",
       "      <th>denom</th>\n",
       "      <th>amount</th>\n",
       "      <th>reword_amount</th>\n",
       "    </tr>\n",
       "  </thead>\n",
       "  <tbody>\n",
       "    <tr>\n",
       "      <th>0</th>\n",
       "      <td>okt</td>\n",
       "      <td>9.919790588199812444</td>\n",
       "      <td>9.919790588199812444</td>\n",
       "    </tr>\n",
       "  </tbody>\n",
       "</table>\n",
       "</div>"
      ],
      "text/plain": [
       "  denom                amount         reword_amount\n",
       "0   okt  9.919790588199812444  9.919790588199812444"
      ]
     },
     "execution_count": 270,
     "metadata": {},
     "output_type": "execute_result"
    }
   ],
   "source": [
    "dfr1"
   ]
  },
  {
   "cell_type": "code",
   "execution_count": 109,
   "metadata": {},
   "outputs": [
    {
     "name": "stdout",
     "output_type": "stream",
     "text": [
      "OKB:  1489.404022518915920542\n",
      "USDT:  13670.632226345126764748\n",
      "price:  9.178592255461366\n"
     ]
    }
   ],
   "source": [
    "okbusdtr = requests.get('https://www.okexcn.com/okexchain/v1/swap/liquidity/remove_quote/okb-c4d_usdt-a2b?liquidity=0.99880969')\n",
    "\n",
    "okbusdt = json.dumps(okbusdtr.json())\n",
    "data = json.loads(okbusdt)\n",
    "okbAmount=data['data'][0]['amount']\n",
    "usdtAmount=data['data'][1]['amount']\n",
    "price=float(usdtAmount)/float(okbAmount)\n",
    "print (\"OKB: \", okbAmount)\n",
    "print (\"USDT: \", usdtAmount)\n",
    "print (\"price: \", price)"
   ]
  },
  {
   "cell_type": "code",
   "execution_count": 159,
   "metadata": {},
   "outputs": [
    {
     "data": {
      "text/html": [
       "<div>\n",
       "<style scoped>\n",
       "    .dataframe tbody tr th:only-of-type {\n",
       "        vertical-align: middle;\n",
       "    }\n",
       "\n",
       "    .dataframe tbody tr th {\n",
       "        vertical-align: top;\n",
       "    }\n",
       "\n",
       "    .dataframe thead th {\n",
       "        text-align: right;\n",
       "    }\n",
       "</style>\n",
       "<table border=\"1\" class=\"dataframe\">\n",
       "  <thead>\n",
       "    <tr style=\"text-align: right;\">\n",
       "      <th></th>\n",
       "      <th>denom</th>\n",
       "      <th>amount</th>\n",
       "      <th>locked</th>\n",
       "    </tr>\n",
       "  </thead>\n",
       "  <tbody>\n",
       "    <tr>\n",
       "      <th>0</th>\n",
       "      <td>ammswap_okb-c4d_usdt-a2b</td>\n",
       "      <td>0.000000002033978094</td>\n",
       "      <td>0</td>\n",
       "    </tr>\n",
       "    <tr>\n",
       "      <th>1</th>\n",
       "      <td>btck-ba9</td>\n",
       "      <td>0.000000005441568435</td>\n",
       "      <td>0</td>\n",
       "    </tr>\n",
       "    <tr>\n",
       "      <th>2</th>\n",
       "      <td>ethk-c63</td>\n",
       "      <td>0.000000000000000001</td>\n",
       "      <td>0</td>\n",
       "    </tr>\n",
       "    <tr>\n",
       "      <th>3</th>\n",
       "      <td>okb-c4d</td>\n",
       "      <td>0.000000008000152614</td>\n",
       "      <td>0</td>\n",
       "    </tr>\n",
       "    <tr>\n",
       "      <th>4</th>\n",
       "      <td>okt</td>\n",
       "      <td>267.075525711718378653</td>\n",
       "      <td>0</td>\n",
       "    </tr>\n",
       "    <tr>\n",
       "      <th>5</th>\n",
       "      <td>usdt-a2b</td>\n",
       "      <td>2275.764933267381108469</td>\n",
       "      <td>0</td>\n",
       "    </tr>\n",
       "    <tr>\n",
       "      <th>6</th>\n",
       "      <td>yfi-bb5</td>\n",
       "      <td>30000.000000000000000000</td>\n",
       "      <td>0</td>\n",
       "    </tr>\n",
       "  </tbody>\n",
       "</table>\n",
       "</div>"
      ],
      "text/plain": [
       "                      denom                    amount locked\n",
       "0  ammswap_okb-c4d_usdt-a2b      0.000000002033978094      0\n",
       "1                  btck-ba9      0.000000005441568435      0\n",
       "2                  ethk-c63      0.000000000000000001      0\n",
       "3                   okb-c4d      0.000000008000152614      0\n",
       "4                       okt    267.075525711718378653      0\n",
       "5                  usdt-a2b   2275.764933267381108469      0\n",
       "6                   yfi-bb5  30000.000000000000000000      0"
      ]
     },
     "execution_count": 159,
     "metadata": {},
     "output_type": "execute_result"
    }
   ],
   "source": [
    "rr = requests.get('https://www.okexcn.com/okexchain/v1/accounts/okexchain16y4cauu2uy5vhwcaz8jgsfsm20j67670r9lelj')\n",
    "\n",
    "rrData = json.loads(json.dumps(rr.json()))\n",
    "rrdf = pd.DataFrame(rrData['data']['currencies'])\n",
    "rrdf.rename(columns={'symbol':'denom','available':'amount'},inplace=True)\n",
    "rrdf"
   ]
  },
  {
   "cell_type": "code",
   "execution_count": 268,
   "metadata": {},
   "outputs": [],
   "source": [
    "rrr = requests.get('https://www.okexcn.com/okexchain/v1/farm/earnings/btck_okt/okexchain16y4cauu2uy5vhwcaz8jgsfsm20j67670r9lelj')\n"
   ]
  },
  {
   "cell_type": "code",
   "execution_count": 269,
   "metadata": {},
   "outputs": [
    {
     "data": {
      "text/plain": [
       "{'target_block_height': '790754',\n",
       " 'amount_locked': {'denom': 'ammswap_btck-ba9_okt',\n",
       "  'amount': '49.610546632517983358'},\n",
       " 'amount_yielded': [{'denom': 'okt', 'amount': '17.471909215568899234'}]}"
      ]
     },
     "execution_count": 269,
     "metadata": {},
     "output_type": "execute_result"
    }
   ],
   "source": [
    "rrrData = json.loads(json.dumps(rrr.json()))\n",
    "rrrData\n"
   ]
  },
  {
   "cell_type": "code",
   "execution_count": 183,
   "metadata": {},
   "outputs": [
    {
     "data": {
      "text/html": [
       "<div>\n",
       "<style scoped>\n",
       "    .dataframe tbody tr th:only-of-type {\n",
       "        vertical-align: middle;\n",
       "    }\n",
       "\n",
       "    .dataframe tbody tr th {\n",
       "        vertical-align: top;\n",
       "    }\n",
       "\n",
       "    .dataframe thead th {\n",
       "        text-align: right;\n",
       "    }\n",
       "</style>\n",
       "<table border=\"1\" class=\"dataframe\">\n",
       "  <thead>\n",
       "    <tr style=\"text-align: right;\">\n",
       "      <th></th>\n",
       "      <th>denom</th>\n",
       "      <th>amount</th>\n",
       "    </tr>\n",
       "  </thead>\n",
       "  <tbody>\n",
       "    <tr>\n",
       "      <th>0</th>\n",
       "      <td>okt</td>\n",
       "      <td>9.919790588199812444</td>\n",
       "    </tr>\n",
       "  </tbody>\n",
       "</table>\n",
       "</div>"
      ],
      "text/plain": [
       "  denom                amount\n",
       "0   okt  9.919790588199812444"
      ]
     },
     "execution_count": 183,
     "metadata": {},
     "output_type": "execute_result"
    }
   ],
   "source": [
    "amount=rrrData['amount_yielded'][0]\n",
    "df = pd.DataFrame(amount, columns=['denom','amount'],index = [0])\n",
    "df"
   ]
  },
  {
   "cell_type": "code",
   "execution_count": 49,
   "metadata": {},
   "outputs": [
    {
     "data": {
      "text/plain": [
       "10241.054434626552"
      ]
     },
     "execution_count": 49,
     "metadata": {},
     "output_type": "execute_result"
    }
   ],
   "source": [
    "\n",
    "#df1=getAmount(\"okb-c4d\",\"usdt-a2b\",0)\n",
    "df2=getAmount(\"okb-c4d\",\"okt\",1.65982272)\n",
    "#df3=getAmount(\"ethk-c63\",\"okt\",0)\n",
    "\n",
    "\n",
    "rr = requests.get('https://www.okexcn.com/okexchain/v1/accounts/okexchain1z0e52d2raru90uw59pkdm9smp246t0ngn0t9n6')\n",
    "rrData = json.loads(json.dumps(rr.json()))\n",
    "rrdf = pd.DataFrame(rrData['data']['currencies'])\n",
    "rrdf.rename(columns={'symbol':'denom','available':'amount'},inplace=True)\n",
    "rrdf['account_amount']=rrdf['amount']\n",
    "rrdf\n",
    "\n",
    "#dfr1=getReword(\"btck_okt\")\n",
    "#dfr2=getReword(\"ethk_okt\")\n",
    "#dfr3=getReword(\"okb_usdt\")\n",
    "\n",
    "df = df2.append(rrdf)\n",
    "df['amount']=df['amount'].astype(\"float64\")\n",
    "df['lqt_amount']=df['lqt_amount'].astype(\"float64\")\n",
    "df['account_amount']=df['account_amount'].astype(\"float64\")\n",
    "#df['reword_amount']=df['reword_amount'].astype(\"float64\")\n",
    "dfg=df.groupby('denom').sum()\n",
    "\n",
    "\n",
    "okb=getPrice(\"okb-c4d\")\n",
    "btck=getPrice(\"btck-ba9\")\n",
    "ethk=getPrice(\"ethk-c63\")\n",
    "okt=getPrice(\"okt\")\n",
    "usdt = pd.DataFrame({'denom':'usdt-a2b','price':1},pd.Index(range(1)))\n",
    "\n",
    "price = okb.append(btck).append(ethk).append(okt).append(usdt)\n",
    "dfprice=pd.merge(dfg, price, on='denom')\n",
    "dfprice['usdt'] = dfprice['amount']*dfprice['price']\n",
    "\n",
    "dfprice['usdt'].sum()"
   ]
  },
  {
   "cell_type": "code",
   "execution_count": 50,
   "metadata": {},
   "outputs": [
    {
     "data": {
      "text/html": [
       "<div>\n",
       "<style scoped>\n",
       "    .dataframe tbody tr th:only-of-type {\n",
       "        vertical-align: middle;\n",
       "    }\n",
       "\n",
       "    .dataframe tbody tr th {\n",
       "        vertical-align: top;\n",
       "    }\n",
       "\n",
       "    .dataframe thead th {\n",
       "        text-align: right;\n",
       "    }\n",
       "</style>\n",
       "<table border=\"1\" class=\"dataframe\">\n",
       "  <thead>\n",
       "    <tr style=\"text-align: right;\">\n",
       "      <th></th>\n",
       "      <th>denom</th>\n",
       "      <th>amount</th>\n",
       "      <th>lqt_amount</th>\n",
       "      <th>account_amount</th>\n",
       "      <th>price</th>\n",
       "      <th>usdt</th>\n",
       "    </tr>\n",
       "  </thead>\n",
       "  <tbody>\n",
       "    <tr>\n",
       "      <th>0</th>\n",
       "      <td>okb-c4d</td>\n",
       "      <td>372.85192012</td>\n",
       "      <td>372.85192012</td>\n",
       "      <td>0.00000000</td>\n",
       "      <td>12.85891897</td>\n",
       "      <td>4794.47262874</td>\n",
       "    </tr>\n",
       "    <tr>\n",
       "      <th>1</th>\n",
       "      <td>okt</td>\n",
       "      <td>65.09126622</td>\n",
       "      <td>57.40042398</td>\n",
       "      <td>7.69084224</td>\n",
       "      <td>83.67607703</td>\n",
       "      <td>5446.58180588</td>\n",
       "    </tr>\n",
       "  </tbody>\n",
       "</table>\n",
       "</div>"
      ],
      "text/plain": [
       "     denom       amount   lqt_amount  account_amount       price          usdt\n",
       "0  okb-c4d 372.85192012 372.85192012      0.00000000 12.85891897 4794.47262874\n",
       "1      okt  65.09126622  57.40042398      7.69084224 83.67607703 5446.58180588"
      ]
     },
     "execution_count": 50,
     "metadata": {},
     "output_type": "execute_result"
    }
   ],
   "source": [
    "dfprice"
   ]
  },
  {
   "cell_type": "code",
   "execution_count": 15,
   "metadata": {},
   "outputs": [],
   "source": [
    "from web3 import Web3\n",
    "\n",
    "# IPCProvider:\n",
    "#w3 = Web3(Web3.IPCProvider('./path/to/geth.ipc'))\n",
    "\n",
    "# HTTPProvider:\n",
    "#w3 = Web3(Web3.HTTPProvider('https://mainnet.infura.io/v3/971dfadadf284cc684bb270f59f055de'))\n",
    "w3 = Web3(Web3.HTTPProvider('http://18.163.193.125:8545'))\n",
    "\n",
    "# WebsocketProvider:\n",
    "#w3 = Web3(Web3.WebsocketProvider('wss://mainnet.infura.io/ws/v3/971dfadadf284cc684bb270f59f055de'))\n",
    "#w3 = Web3(Web3.WebsocketProvider('ws://18.163.193.125:8546'))"
   ]
  },
  {
   "cell_type": "code",
   "execution_count": 11,
   "metadata": {},
   "outputs": [
    {
     "data": {
      "text/plain": [
       "True"
      ]
     },
     "execution_count": 11,
     "metadata": {},
     "output_type": "execute_result"
    }
   ],
   "source": [
    "w3.isConnected()"
   ]
  },
  {
   "cell_type": "code",
   "execution_count": 13,
   "metadata": {
    "scrolled": true
   },
   "outputs": [],
   "source": [
    "Contract = w3.eth.contract(abi= '''[{\"inputs\":[],\"stateMutability\":\"nonpayable\",\"type\":\"constructor\"},{\"anonymous\":false,\"inputs\":[{\"indexed\":true,\"internalType\":\"address\",\"name\":\"owner\",\"type\":\"address\"},{\"indexed\":true,\"internalType\":\"address\",\"name\":\"spender\",\"type\":\"address\"},{\"indexed\":false,\"internalType\":\"uint256\",\"name\":\"value\",\"type\":\"uint256\"}],\"name\":\"Approval\",\"type\":\"event\"},{\"anonymous\":false,\"inputs\":[{\"indexed\":true,\"internalType\":\"address\",\"name\":\"from\",\"type\":\"address\"},{\"indexed\":true,\"internalType\":\"address\",\"name\":\"to\",\"type\":\"address\"},{\"indexed\":false,\"internalType\":\"uint256\",\"name\":\"value\",\"type\":\"uint256\"}],\"name\":\"Transfer\",\"type\":\"event\"},{\"inputs\":[{\"internalType\":\"address\",\"name\":\"owner\",\"type\":\"address\"},{\"internalType\":\"address\",\"name\":\"spender\",\"type\":\"address\"}],\"name\":\"allowance\",\"outputs\":[{\"internalType\":\"uint256\",\"name\":\"\",\"type\":\"uint256\"}],\"stateMutability\":\"view\",\"type\":\"function\"},{\"inputs\":[{\"internalType\":\"address\",\"name\":\"spender\",\"type\":\"address\"},{\"internalType\":\"uint256\",\"name\":\"amount\",\"type\":\"uint256\"}],\"name\":\"approve\",\"outputs\":[{\"internalType\":\"bool\",\"name\":\"\",\"type\":\"bool\"}],\"stateMutability\":\"nonpayable\",\"type\":\"function\"},{\"inputs\":[{\"internalType\":\"address\",\"name\":\"account\",\"type\":\"address\"}],\"name\":\"balanceOf\",\"outputs\":[{\"internalType\":\"uint256\",\"name\":\"\",\"type\":\"uint256\"}],\"stateMutability\":\"view\",\"type\":\"function\"},{\"inputs\":[],\"name\":\"decimals\",\"outputs\":[{\"internalType\":\"uint8\",\"name\":\"\",\"type\":\"uint8\"}],\"stateMutability\":\"view\",\"type\":\"function\"},{\"inputs\":[{\"internalType\":\"address\",\"name\":\"spender\",\"type\":\"address\"},{\"internalType\":\"uint256\",\"name\":\"subtractedValue\",\"type\":\"uint256\"}],\"name\":\"decreaseAllowance\",\"outputs\":[{\"internalType\":\"bool\",\"name\":\"\",\"type\":\"bool\"}],\"stateMutability\":\"nonpayable\",\"type\":\"function\"},{\"inputs\":[{\"internalType\":\"address\",\"name\":\"spender\",\"type\":\"address\"},{\"internalType\":\"uint256\",\"name\":\"addedValue\",\"type\":\"uint256\"}],\"name\":\"increaseAllowance\",\"outputs\":[{\"internalType\":\"bool\",\"name\":\"\",\"type\":\"bool\"}],\"stateMutability\":\"nonpayable\",\"type\":\"function\"},{\"inputs\":[],\"name\":\"name\",\"outputs\":[{\"internalType\":\"string\",\"name\":\"\",\"type\":\"string\"}],\"stateMutability\":\"view\",\"type\":\"function\"},{\"inputs\":[],\"name\":\"symbol\",\"outputs\":[{\"internalType\":\"string\",\"name\":\"\",\"type\":\"string\"}],\"stateMutability\":\"view\",\"type\":\"function\"},{\"inputs\":[],\"name\":\"totalSupply\",\"outputs\":[{\"internalType\":\"uint256\",\"name\":\"\",\"type\":\"uint256\"}],\"stateMutability\":\"view\",\"type\":\"function\"},{\"inputs\":[{\"internalType\":\"address\",\"name\":\"recipient\",\"type\":\"address\"},{\"internalType\":\"uint256\",\"name\":\"amount\",\"type\":\"uint256\"}],\"name\":\"transfer\",\"outputs\":[{\"internalType\":\"bool\",\"name\":\"\",\"type\":\"bool\"}],\"stateMutability\":\"nonpayable\",\"type\":\"function\"},{\"inputs\":[{\"internalType\":\"address\",\"name\":\"sender\",\"type\":\"address\"},{\"internalType\":\"address\",\"name\":\"recipient\",\"type\":\"address\"},{\"internalType\":\"uint256\",\"name\":\"amount\",\"type\":\"uint256\"}],\"name\":\"transferFrom\",\"outputs\":[{\"internalType\":\"bool\",\"name\":\"\",\"type\":\"bool\"}],\"stateMutability\":\"nonpayable\",\"type\":\"function\"}]''')\n",
    "\n",
    "# later, initialize contracts with the same metadata at different addresses:\n",
    "contract1 = Contract(address='0x69af81e73A73B40adF4f3d4223Cd9b1ECE623074')"
   ]
  },
  {
   "cell_type": "code",
   "execution_count": 18,
   "metadata": {},
   "outputs": [
    {
     "data": {
      "text/plain": [
       "AttributeDict({'blockHash': HexBytes('0x4e3a3754410177e6937ef1f84bba68ea139e8d1a2258c5f85db9f1cd715a1bdd'),\n",
       " 'blockNumber': 46147,\n",
       " 'contractAddress': None,\n",
       " 'cumulativeGasUsed': 21000,\n",
       " 'from': '0xA1E4380A3B1f749673E270229993eE55F35663b4',\n",
       " 'gasUsed': 21000,\n",
       " 'logs': [],\n",
       " 'logsBloom': HexBytes('0x00000000000000000000000000000000000000000000000000000000000000000000000000000000000000000000000000000000000000000000000000000000000000000000000000000000000000000000000000000000000000000000000000000000000000000000000000000000000000000000000000000000000000000000000000000000000000000000000000000000000000000000000000000000000000000000000000000000000000000000000000000000000000000000000000000000000000000000000000000000000000000000000000000000000000000000000000000000000000000000000000000000000000000000000000000000'),\n",
       " 'root': '0x96a8e009d2b88b1483e6941e6812e32263b05683fac202abc622a3e31aed1957',\n",
       " 'to': '0x5DF9B87991262F6BA471F09758CDE1c0FC1De734',\n",
       " 'transactionHash': HexBytes('0x5c504ed432cb51138bcf09aa5e8a410dd4a1e204ef84bfed1be16dfba1b22060'),\n",
       " 'transactionIndex': 0})"
      ]
     },
     "execution_count": 18,
     "metadata": {},
     "output_type": "execute_result"
    }
   ],
   "source": [
    "w3.eth.getTransactionReceipt('0x5c504ed432cb51138bcf09aa5e8a410dd4a1e204ef84bfed1be16dfba1b22060')"
   ]
  },
  {
   "cell_type": "code",
   "execution_count": 19,
   "metadata": {},
   "outputs": [
    {
     "ename": "SyntaxError",
     "evalue": "invalid character in identifier (<ipython-input-19-61aca3029649>, line 3)",
     "output_type": "error",
     "traceback": [
      "\u001b[0;36m  File \u001b[0;32m\"<ipython-input-19-61aca3029649>\"\u001b[0;36m, line \u001b[0;32m3\u001b[0m\n\u001b[0;31m    'fromBlock': Web3.toHex(4880701),\u001b[0m\n\u001b[0m    ^\u001b[0m\n\u001b[0;31mSyntaxError\u001b[0m\u001b[0;31m:\u001b[0m invalid character in identifier\n"
     ]
    }
   ],
   "source": [
    "event_topic = Web3.sha3(text=\"Transfer(address,address,uint256)\")\n",
    "log_filter = {\n",
    "    'fromBlock': Web3.toHex(4880701),\n",
    "    'toBlock':   Web3.toHex(4880701),#'latest',\n",
    "    #'address': '0x744d70fdbe2ba4cf95131626614a1763df805b9e',\n",
    "    'topics': [\"0xddf252ad1be2c89b69c2b068fc378daa952ba7f163c4a11628f55a4df523b3ef\"]\n",
    "}\n",
    "log_filter_id = eth.filter(log_filter).filter_id\n",
    "eth.getFilterLogs(log_filter_id)\n"
   ]
  },
  {
   "cell_type": "code",
   "execution_count": 20,
   "metadata": {},
   "outputs": [],
   "source": [
    "contract_address='0x69af81e73A73B40adF4f3d4223Cd9b1ECE623074'\n",
    "event_filter = w3.eth.filter({\"address\": contract_address})"
   ]
  },
  {
   "cell_type": "code",
   "execution_count": 22,
   "metadata": {},
   "outputs": [
    {
     "data": {
      "text/plain": [
       "'0xc0ee9be40aa7bb79e826da3f23c80c9b'"
      ]
     },
     "execution_count": 22,
     "metadata": {},
     "output_type": "execute_result"
    }
   ],
   "source": [
    "event_filter.filter_id"
   ]
  },
  {
   "cell_type": "code",
   "execution_count": 26,
   "metadata": {},
   "outputs": [
    {
     "data": {
      "text/plain": [
       "[]"
      ]
     },
     "execution_count": 26,
     "metadata": {},
     "output_type": "execute_result"
    }
   ],
   "source": [
    "log_filter_id = event_filter.filter_id\n",
    "w3.eth.getFilterLogs(log_filter_id)\n"
   ]
  },
  {
   "cell_type": "code",
   "execution_count": null,
   "metadata": {},
   "outputs": [],
   "source": []
  }
 ],
 "metadata": {
  "kernelspec": {
   "display_name": "Python 3",
   "language": "python",
   "name": "python3"
  },
  "language_info": {
   "codemirror_mode": {
    "name": "ipython",
    "version": 3
   },
   "file_extension": ".py",
   "mimetype": "text/x-python",
   "name": "python",
   "nbconvert_exporter": "python",
   "pygments_lexer": "ipython3",
   "version": "3.8.3"
  }
 },
 "nbformat": 4,
 "nbformat_minor": 4
}
